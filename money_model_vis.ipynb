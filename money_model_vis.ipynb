{
 "cells": [
  {
   "cell_type": "code",
   "execution_count": null,
   "id": "f6a4f2a6-b4ef-45ee-8825-c86f0a79ed81",
   "metadata": {},
   "outputs": [],
   "source": [
    "from mesa.visualization.modules import CanvasGrid\n",
    "from mesa.visualization.ModularVisualization import ModularServer\n",
    "from money_model import MoneyModel"
   ]
  },
  {
   "cell_type": "code",
   "execution_count": null,
   "id": "b4335ef8-a9b3-4ceb-8af3-7bfc70b8f9a7",
   "metadata": {},
   "outputs": [],
   "source": [
    "def agent_portrayal(agent):\n",
    "    portrayal = {\"Shape\": \"circle\",\n",
    "                 \"Color\": \"red\",\n",
    "                 \"Filled\": \"true\",\n",
    "                 \"Layer\": 0,\n",
    "                 \"r\": 0.5}\n",
    "    if agent.wealth > 0:\n",
    "        portrayal[\"Color\"] = \"blue\"\n",
    "        portrayal[\"Layer\"] = \"0\"\n",
    "    else:\n",
    "        portrayal[\"Color\"] = \"red\"\n",
    "        portrayal[\"Layer\"] = \"1\"\n",
    "        portrayal[\"r\"] = 0.2\n",
    "    return portrayal\n",
    "\n",
    "grid = CanvasGrid(agent_portrayal, 10, 10, 500, 500)"
   ]
  },
  {
   "cell_type": "code",
   "execution_count": null,
   "id": "99a32b1b-bbc5-4226-bc2a-47c7b1f1e687",
   "metadata": {},
   "outputs": [],
   "source": [
    "server = ModularServer(MoneyModel,\n",
    "                       [grid],\n",
    "                       \"Money Model\",\n",
    "                       {\"N\":100, \"width\":10, \"height\":10})\n",
    "server.port = 8521 # The default\n",
    "server.launch()"
   ]
  }
 ],
 "metadata": {
  "kernelspec": {
   "display_name": "Python 3 (ipykernel)",
   "language": "python",
   "name": "python3"
  },
  "language_info": {
   "codemirror_mode": {
    "name": "ipython",
    "version": 3
   },
   "file_extension": ".py",
   "mimetype": "text/x-python",
   "name": "python",
   "nbconvert_exporter": "python",
   "pygments_lexer": "ipython3",
   "version": "3.9.7"
  }
 },
 "nbformat": 4,
 "nbformat_minor": 5
}
