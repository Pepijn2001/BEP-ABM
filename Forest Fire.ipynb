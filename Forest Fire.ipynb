{
 "cells": [
  {
   "cell_type": "code",
   "execution_count": 6,
   "id": "baa71dfa",
   "metadata": {},
   "outputs": [],
   "source": [
    "from mesa import Model, Agent\n",
    "from mesa.time import RandomActivation\n",
    "from mesa.space import SingleGrid\n",
    "from mesa.datacollection import DataCollector\n",
    "from enum import Enum\n",
    "\n",
    "import numpy as np\n",
    "\n",
    "import matplotlib.pyplot as plt\n",
    "\n",
    "%matplotlib inline\n",
    "\n",
    "def count(model, state):\n",
    "    \"\"\"Counts the number of citizens with the user-defined state\"\"\"\n",
    "    count = 0\n",
    "    for agent in model.schedule.agents:\n",
    "        if agent.Health == state:\n",
    "                count += 1\n",
    "    return count\n",
    "\n",
    "class Health(Enum):\n",
    "    HEALTHY = 1 \n",
    "    BURNING = 2 \n",
    "    DEAD = 3\n",
    "\n",
    "class Forest(Model):\n",
    "    def __init__(self, height, width, density, seed=None):\n",
    "        super().__init__(seed=seed)\n",
    "\n",
    "        \n",
    "        # setup Tree class attributes\n",
    "        \n",
    "        \n",
    "        # setup data collection\n",
    "        model_reporters = {'healthy': lambda m: count(m, Health.HEALTHY),\n",
    "                           'burning': lambda m: count(m, Health.BURNING),\n",
    "                           'dead': lambda m: count(m, Health.DEAD)}\n",
    "       \n",
    "        self.datacollector = DataCollector(model_reporters=model_reporters)\n",
    "        self.schedule = RandomActivation(self)\n",
    "        self.grid = SingleGrid(width, height, torus=False)\n",
    "\n",
    "        # Set up agents\n",
    "        id = 1\n",
    "        \n",
    "        for i, x, y in self.grid.coord_iter():\n",
    "            if self.random.random() < density:\n",
    "                agent = Tree(id, self)\n",
    "                if x == 0:\n",
    "                    agent.Health = Health.BURNING\n",
    "                self.grid.position_agent(agent, x, y)\n",
    "                self.schedule.add(agent)\n",
    "                id += 1\n",
    "          \n",
    "        \n",
    "    def step(self):\n",
    "        self.schedule.step()\n",
    "        self.datacollector.collect(self)\n",
    "        \n",
    "    \n",
    "        \n",
    "    def count_trees(self, model, agent_health):\n",
    "        count = 0\n",
    "        for agent in model.schedule.agents:\n",
    "            if agent.Health == agent_health:\n",
    "                count += 1\n",
    "        return count\n",
    "    \n",
    "class Tree(Agent):\n",
    "    def __init__(self, pos, model):\n",
    "        super().__init__(pos, model)\n",
    "        self.Health = Health.HEALTHY\n",
    "        self.pos = pos\n",
    "        \n",
    "        \n",
    "    def step(self):\n",
    "        \n",
    "        if self.Health == Health.BURNING:\n",
    "            for neighbor in self.model.grid.iter_neighbors(self.pos, moore=False):\n",
    "                if neighbor.Health == Health.HEALTHY:\n",
    "                    neighbor.Health = Health.BURNING\n",
    "                \n",
    "            self.Health = Health.DEAD\n",
    "        \n",
    "   \n",
    "        "
   ]
  },
  {
   "cell_type": "code",
   "execution_count": 7,
   "id": "5dc5b439",
   "metadata": {},
   "outputs": [],
   "source": [
    "import mesa\n",
    "\n",
    "COLORS = {\"HEALTHY\": \"#00AA00\", \"BURNING\": \"#880000\", \"DEAD\": \"#000000\"}\n",
    "\n",
    "\n",
    "def forest_fire_portrayal(tree):\n",
    "    if tree is None:\n",
    "        return\n",
    "    portrayal = {\"Shape\": \"rect\", \"w\": 1, \"h\": 1, \"Filled\": \"true\", \"Layer\": 0}\n",
    "    (x, y) = tree.pos\n",
    "    portrayal[\"x\"] = x\n",
    "    portrayal[\"y\"] = y\n",
    "    portrayal[\"Color\"] = COLORS[tree.Health]\n",
    "    return portrayal\n",
    "\n",
    "\n",
    "canvas_element = mesa.visualization.CanvasGrid(\n",
    "    forest_fire_portrayal, 100, 100, 500, 500\n",
    ")\n",
    "tree_chart = mesa.visualization.ChartModule(\n",
    "    [{\"Label\": label, \"Color\": color} for (label, color) in COLORS.items()]\n",
    ")\n",
    "pie_chart = mesa.visualization.PieChartModule(\n",
    "    [{\"Label\": label, \"Color\": color} for (label, color) in COLORS.items()]\n",
    ")\n",
    "\n",
    "model_params = {\n",
    "    \"height\": 100,\n",
    "    \"width\": 100,\n",
    "    \"density\": mesa.visualization.Slider(\"Tree density\", 0.65, 0.01, 1.0, 0.01),\n",
    "}\n",
    "server = mesa.visualization.ModularServer(\n",
    "    Forest, [canvas_element, tree_chart, pie_chart], \"Forest Fire\", model_params\n",
    ")\n"
   ]
  },
  {
   "cell_type": "code",
   "execution_count": 13,
   "id": "11089a48",
   "metadata": {},
   "outputs": [
    {
     "data": {
      "text/plain": [
       "<AxesSubplot:>"
      ]
     },
     "execution_count": 13,
     "metadata": {},
     "output_type": "execute_result"
    },
    {
     "data": {
      "image/png": "[encoded data removed]",
      "text/plain": [
       "<Figure size 432x288 with 1 Axes>"
      ]
     },
     "metadata": {
      "needs_background": "light"
     },
     "output_type": "display_data"
    }
   ],
   "source": [
    "fire = Forest(100, 100, 0.6)\n",
    "for i in range(120):\n",
    "    fire.step()\n",
    "results = fire.datacollector.get_model_vars_dataframe()\n",
    "results.plot()"
   ]
  },
  {
   "cell_type": "code",
   "execution_count": null,
   "id": "ebd3cfa6",
   "metadata": {},
   "outputs": [],
   "source": []
  },
  {
   "cell_type": "code",
   "execution_count": null,
   "id": "7be0bd7d",
   "metadata": {},
   "outputs": [],
   "source": []
  }
 ],
 "metadata": {
  "kernelspec": {
   "display_name": "Python 3 (ipykernel)",
   "language": "python",
   "name": "python3"
  },
  "language_info": {
   "codemirror_mode": {
    "name": "ipython",
    "version": 3
   },
   "file_extension": ".py",
   "mimetype": "text/x-python",
   "name": "python",
   "nbconvert_exporter": "python",
   "pygments_lexer": "ipython3",
   "version": "3.9.7"
  }
 },
 "nbformat": 4,
 "nbformat_minor": 5
}
